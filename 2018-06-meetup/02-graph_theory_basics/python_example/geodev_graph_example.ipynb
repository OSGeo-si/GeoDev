{
 "cells": [
  {
   "cell_type": "markdown",
   "metadata": {},
   "source": [
    "# GeoDev Meetup\n",
    "\n",
    "Graph algorithems examples "
   ]
  },
  {
   "cell_type": "code",
   "execution_count": 1,
   "metadata": {},
   "outputs": [],
   "source": [
    "from graph import Graph\n",
    "import collections\n",
    "import math\n"
   ]
  },
  {
   "cell_type": "markdown",
   "metadata": {},
   "source": [
    "Graf is defined as ordered pair \n",
    "__G = (V, E)__\n",
    "\n",
    "Where:\n",
    "__V__ is vertice or node\n",
    "__E__ is edge\n",
    "\n",
    "We can save this data in different strucures. \n",
    "For our example (see image bellow) we have folowing Python dictinary\n",
    "\n",
    "<img src='image.jpg'>"
   ]
  },
  {
   "cell_type": "code",
   "execution_count": 13,
   "metadata": {},
   "outputs": [],
   "source": [
    "graph_data = {\n",
    "    1: {2: 1, 9: 1},\n",
    "    2: {3: 1, 5: 4, 1:1},\n",
    "    3: {4:1, 2:1},\n",
    "    4: {3:1},\n",
    "    5: {2:4, 6:1},\n",
    "    6: {5:1, 7:1},\n",
    "    7: {6:1, 8:1, 10:1},\n",
    "    8: {7:1},\n",
    "    9: {1:1, 10:1},\n",
    "    10: {9:1, 7:1, 11:1},\n",
    "    11: {10:1}\n",
    "}"
   ]
  },
  {
   "cell_type": "markdown",
   "metadata": {},
   "source": [
    "Now we will populate our Graph Class we have created before"
   ]
  },
  {
   "cell_type": "code",
   "execution_count": 14,
   "metadata": {},
   "outputs": [
    {
     "name": "stdout",
     "output_type": "stream",
     "text": [
      "\n",
      "\n",
      "Adding node 1 to graph\n",
      "\tAdding edge to neighbour: 2 with weight 1\n",
      "\tAdding edge to neighbour: 9 with weight 1\n",
      "\n",
      "\n",
      "Adding node 2 to graph\n",
      "\tAdding edge to neighbour: 3 with weight 1\n",
      "\tAdding edge to neighbour: 5 with weight 4\n",
      "\tAdding edge to neighbour: 1 with weight 1\n",
      "\n",
      "\n",
      "Adding node 3 to graph\n",
      "\tAdding edge to neighbour: 4 with weight 1\n",
      "\tAdding edge to neighbour: 2 with weight 1\n",
      "\n",
      "\n",
      "Adding node 4 to graph\n",
      "\tAdding edge to neighbour: 3 with weight 1\n",
      "\n",
      "\n",
      "Adding node 5 to graph\n",
      "\tAdding edge to neighbour: 2 with weight 4\n",
      "\tAdding edge to neighbour: 6 with weight 1\n",
      "\n",
      "\n",
      "Adding node 6 to graph\n",
      "\tAdding edge to neighbour: 5 with weight 1\n",
      "\tAdding edge to neighbour: 7 with weight 1\n",
      "\n",
      "\n",
      "Adding node 7 to graph\n",
      "\tAdding edge to neighbour: 6 with weight 1\n",
      "\tAdding edge to neighbour: 8 with weight 1\n",
      "\tAdding edge to neighbour: 10 with weight 1\n",
      "\n",
      "\n",
      "Adding node 8 to graph\n",
      "\tAdding edge to neighbour: 7 with weight 1\n",
      "\n",
      "\n",
      "Adding node 9 to graph\n",
      "\tAdding edge to neighbour: 1 with weight 1\n",
      "\tAdding edge to neighbour: 10 with weight 1\n",
      "\n",
      "\n",
      "Adding node 10 to graph\n",
      "\tAdding edge to neighbour: 9 with weight 1\n",
      "\tAdding edge to neighbour: 7 with weight 1\n",
      "\tAdding edge to neighbour: 11 with weight 1\n",
      "\n",
      "\n",
      "Adding node 11 to graph\n",
      "\tAdding edge to neighbour: 10 with weight 1\n"
     ]
    }
   ],
   "source": [
    "G = Graph()\n",
    "value = 1 #Weight on each edge (for now lets just put 1)\n",
    "\n",
    "for node, neighbours in graph_data.items():\n",
    "    print('\\n\\nAdding node {0} to graph'.format(node))\n",
    "    G.add_node(node)\n",
    "    for neighbour, weight in neighbours.items():\n",
    "        G.add_node(neighbour)\n",
    "        G.add_edge(node, neighbour, weight)\n",
    "        print('\\tAdding edge to neighbour: {0} with weight {1}'.format(neighbour, weight))\n",
    "    "
   ]
  },
  {
   "cell_type": "code",
   "execution_count": 4,
   "metadata": {},
   "outputs": [],
   "source": [
    "def bfs(graph, start):\n",
    "    visited, queue = set(), [start]\n",
    "    while queue:\n",
    "        vertex = queue.pop(0)\n",
    "        node = graph.get_node(vertex)\n",
    "        neighbours = node.get_neighbours()\n",
    "        if vertex not in visited:\n",
    "            visited.add(vertex)\n",
    "            queue.extend(set(neighbours) - visited)\n",
    "    return visited"
   ]
  },
  {
   "cell_type": "code",
   "execution_count": 5,
   "metadata": {},
   "outputs": [
    {
     "name": "stdout",
     "output_type": "stream",
     "text": [
      "Visited nodes by BFS: {1, 2, 3, 4, 5, 6, 7, 8, 9, 10, 11}\n"
     ]
    }
   ],
   "source": [
    "x = bfs(G, 1)\n",
    "print('Visited nodes by BFS: {0}'.format(x))"
   ]
  },
  {
   "cell_type": "code",
   "execution_count": 6,
   "metadata": {},
   "outputs": [],
   "source": [
    "def dfs(graph, start):\n",
    "    visited, stack = set(), [start]\n",
    "    while stack:        \n",
    "        vertex = stack.pop()\n",
    "        node = graph.get_node(vertex)\n",
    "        neighbours = node.get_neighbours()\n",
    "        if vertex not in visited:\n",
    "            visited.add(vertex)\n",
    "            stack.extend(set(neighbours) - visited)\n",
    "    return visited"
   ]
  },
  {
   "cell_type": "code",
   "execution_count": 7,
   "metadata": {},
   "outputs": [
    {
     "name": "stdout",
     "output_type": "stream",
     "text": [
      "Visited nodes by DFS: {1, 2, 3, 4, 5, 6, 7, 8, 9, 10, 11}\n"
     ]
    }
   ],
   "source": [
    "y = dfs(G, 1)\n",
    "\n",
    "print('Visited nodes by DFS: {0}'.format(y))"
   ]
  },
  {
   "cell_type": "code",
   "execution_count": 39,
   "metadata": {},
   "outputs": [],
   "source": [
    "def dijkstra(graph, start):\n",
    "    S = set()\n",
    "\n",
    "    delta = dict.fromkeys(list(graph.get_nodes()), math.inf)\n",
    "    previous = dict.fromkeys(list(graph.get_nodes()), None)\n",
    "\n",
    "    delta[start] = 0\n",
    "    verticies = list(graph.get_nodes())\n",
    "    while verticies:\n",
    "        v = min((set(delta.keys()) - S), key=delta.get)\n",
    "\n",
    "        node = graph.get_node(v)\n",
    "        neighbours = node.get_neighbours()\n",
    "        for neighbor in neighbours:\n",
    "            w = graph.get_edge(v, neighbor).get_value()\n",
    "            new_path = delta[v] + w\n",
    "\n",
    "            if new_path < delta[neighbor]:\n",
    "                delta[neighbor] = new_path\n",
    "\n",
    "                previous[neighbor] = v\n",
    "        S.add(v)\n",
    "        verticies.remove(v)\n",
    "\n",
    "    return (delta, previous)"
   ]
  },
  {
   "cell_type": "code",
   "execution_count": 40,
   "metadata": {},
   "outputs": [],
   "source": [
    "def shortest_path(graph, start, end):\n",
    "    delta, previous = dijkstra(graph, start)\n",
    "    \n",
    "    path = []\n",
    "    vertex = end\n",
    "    length = 0 \n",
    "    \n",
    "    while vertex is not None:\n",
    "        path.append(vertex)\n",
    "        length += delta[vertex]\n",
    "        vertex = previous[vertex]\n",
    "    \n",
    "    path.reverse()\n",
    "    return (path, length)"
   ]
  },
  {
   "cell_type": "code",
   "execution_count": 41,
   "metadata": {
    "scrolled": true
   },
   "outputs": [
    {
     "name": "stdout",
     "output_type": "stream",
     "text": [
      "Shortest path: [1, 9, 10, 11] of length 6 unit\n"
     ]
    }
   ],
   "source": [
    "path, length = shortest_path(G, 1, 11)\n",
    "print('Shortest path: {0} of length {1} unita'.format(path, length))"
   ]
  }
 ],
 "metadata": {
  "kernelspec": {
   "display_name": "operation_research",
   "language": "python",
   "name": "operation_research"
  },
  "language_info": {
   "codemirror_mode": {
    "name": "ipython",
    "version": 3
   },
   "file_extension": ".py",
   "mimetype": "text/x-python",
   "name": "python",
   "nbconvert_exporter": "python",
   "pygments_lexer": "ipython3",
   "version": "3.6.5"
  }
 },
 "nbformat": 4,
 "nbformat_minor": 2
}
